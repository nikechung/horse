{
 "cells": [
  {
   "cell_type": "code",
   "execution_count": 1,
   "metadata": {},
   "outputs": [],
   "source": [
    "import horse \n",
    "import horse_history\n",
    "import feature_analysis\n",
    "import algorithm_analysis\n",
    "from horse import getHorseData\n",
    "from horse_history import getHorseHistory, prepareData, removeOutlier\n",
    "from sklearn.ensemble import RandomForestRegressor, GradientBoostingRegressor\n"
   ]
  },
  {
   "cell_type": "code",
   "execution_count": 2,
   "metadata": {},
   "outputs": [],
   "source": [
    "horse_data = getHorseData('../horses.csv')\n",
    "horse_race_history = getHorseHistory('../horses_history.csv', horse_data)\n",
    "horse_race_data = prepareData(horse_race_history)"
   ]
  },
  {
   "cell_type": "code",
   "execution_count": 3,
   "metadata": {},
   "outputs": [
    {
     "data": {
      "text/plain": [
       "horse_id             8898\n",
       "race_id              8898\n",
       "result               8898\n",
       "date                 8898\n",
       "location_run         8898\n",
       "distance             8898\n",
       "G                    8898\n",
       "race_class           8898\n",
       "dr                   8898\n",
       "rtg                  8898\n",
       "trainer              8898\n",
       "jockey               8898\n",
       "lbw                  8898\n",
       "win_odds             8898\n",
       "act_wt               8898\n",
       "running_position     8898\n",
       "finish_time          8898\n",
       "weight               8898\n",
       "gear                 8898\n",
       "month                8898\n",
       "location             8898\n",
       "track                8898\n",
       "course               8898\n",
       "finish_time_ms       8898\n",
       "speed_m_s            8898\n",
       "horse_country        8898\n",
       "horse_age            8898\n",
       "horse_owner          8898\n",
       "horse_import_type    8898\n",
       "horse_color          8898\n",
       "horse_sex            8898\n",
       "horse_sire           8898\n",
       "horse_dam            8898\n",
       "horse_dam_sire       8898\n",
       "distance_km          8898\n",
       "quarter              8898\n",
       "no_of_turns          8898\n",
       "dtype: int64"
      ]
     },
     "execution_count": 3,
     "metadata": {},
     "output_type": "execute_result"
    }
   ],
   "source": [
    "horse_race_data = removeOutlier(horse_race_data)\n",
    "horse_race_data.count()"
   ]
  },
  {
   "cell_type": "code",
   "execution_count": 4,
   "metadata": {},
   "outputs": [],
   "source": [
    "horse_race_data[\"quarter\"] = horse_race_data[\"quarter\"].astype('int')\n",
    "horse_race_data = horse_race_data[horse_race_data['rtg'] != \"--\"]\n"
   ]
  },
  {
   "cell_type": "code",
   "execution_count": 4,
   "metadata": {},
   "outputs": [
    {
     "name": "stdout",
     "output_type": "stream",
     "text": [
      "Fitting 5 folds for each of 4 candidates, totalling 20 fits\n",
      "[CV 4/5; 1/4] START subsample=0.6...............................................\n",
      "[CV 1/5; 1/4] START subsample=0.6...............................................\n",
      "[CV 2/5; 1/4] START subsample=0.6...............................................\n",
      "[CV 3/5; 1/4] START subsample=0.6...............................................\n",
      "[CV 4/5; 1/4] END ................subsample=0.6;, score=0.767 total time=  12.3s\n",
      "[CV 2/5; 1/4] END ................subsample=0.6;, score=0.783 total time=  12.3s\n",
      "[CV 5/5; 1/4] START subsample=0.6...............................................\n",
      "[CV 1/5; 2/4] START subsample=0.7...............................................\n",
      "[CV 3/5; 1/4] END ................subsample=0.6;, score=0.770 total time=  12.4s\n",
      "[CV 1/5; 1/4] END ................subsample=0.6;, score=0.793 total time=  12.5s\n",
      "[CV 2/5; 2/4] START subsample=0.7...............................................\n",
      "[CV 3/5; 2/4] START subsample=0.7...............................................\n",
      "[CV 5/5; 1/4] END ................subsample=0.6;, score=0.788 total time=  14.7s\n",
      "[CV 4/5; 2/4] START subsample=0.7...............................................\n",
      "[CV 1/5; 2/4] END ................subsample=0.7;, score=0.792 total time=  15.6s\n",
      "[CV 5/5; 2/4] START subsample=0.7...............................................\n",
      "[CV 2/5; 2/4] END ................subsample=0.7;, score=0.782 total time=  15.7s\n",
      "[CV 1/5; 3/4] START subsample=0.8...............................................\n",
      "[CV 3/5; 2/4] END ................subsample=0.7;, score=0.771 total time=  15.9s\n",
      "[CV 2/5; 3/4] START subsample=0.8...............................................\n",
      "[CV 4/5; 2/4] END ................subsample=0.7;, score=0.770 total time=  15.4s\n",
      "[CV 3/5; 3/4] START subsample=0.8...............................................\n",
      "[CV 5/5; 2/4] END ................subsample=0.7;, score=0.787 total time=  15.3s\n",
      "[CV 4/5; 3/4] START subsample=0.8...............................................\n",
      "[CV 1/5; 3/4] END ................subsample=0.8;, score=0.792 total time=  15.7s\n",
      "[CV 5/5; 3/4] START subsample=0.8...............................................\n",
      "[CV 2/5; 3/4] END ................subsample=0.8;, score=0.784 total time=  15.8s\n",
      "[CV 1/5; 4/4] START subsample=0.9...............................................\n",
      "[CV 3/5; 3/4] END ................subsample=0.8;, score=0.770 total time=  18.4s\n",
      "[CV 2/5; 4/4] START subsample=0.9...............................................\n",
      "[CV 4/5; 3/4] END ................subsample=0.8;, score=0.771 total time=  18.6s\n",
      "[CV 3/5; 4/4] START subsample=0.9...............................................\n",
      "[CV 5/5; 3/4] END ................subsample=0.8;, score=0.789 total time=  18.5s\n",
      "[CV 4/5; 4/4] START subsample=0.9...............................................\n",
      "[CV 1/5; 4/4] END ................subsample=0.9;, score=0.791 total time=  19.5s\n",
      "[CV 5/5; 4/4] START subsample=0.9...............................................\n",
      "[CV 2/5; 4/4] END ................subsample=0.9;, score=0.783 total time=  17.6s\n",
      "[CV 3/5; 4/4] END ................subsample=0.9;, score=0.768 total time=  17.1s\n",
      "[CV 4/5; 4/4] END ................subsample=0.9;, score=0.772 total time=  16.9s\n",
      "[CV 5/5; 4/4] END ................subsample=0.9;, score=0.790 total time=  16.0s\n",
      "Best params:  {'subsample': 0.8}\n",
      "Score:  0.7831620844241209\n"
     ]
    }
   ],
   "source": [
    "optimal_features = ['horse_color',\n",
    "                    'horse_age',\n",
    "                    'race_class',\n",
    "                    'weight',\n",
    "                    'dr',\n",
    "                    'jockey',\n",
    "                    'distance_km',\n",
    "                    'quarter',\n",
    "                    'horse_dam',\n",
    "                    'no_of_turns', \n",
    "                    ]\n",
    "d = horse_race_data.dropna()\n",
    "X = d[optimal_features] \n",
    "y = d['speed_m_s']\n",
    "# model, score = algorithm_analysis.findBestAlgorithm(X, y)\n",
    "# result = algorithm_analysis.findBestHyperParameter(GradientBoostingRegressor(), X, y)\n",
    "# model = GradientBoostingRegressor(loss='huber', learning_rate=0.1, n_estimators=300, max_depth=3, subsample=0.5)\n",
    "model = GradientBoostingRegressor(loss='huber', learning_rate=0.1, n_estimators=300, max_depth=3)\n",
    "result = algorithm_analysis.findBestHyperParameterFindTune(model, X, y)\n",
    "# model.fit(X, y)"
   ]
  }
 ],
 "metadata": {
  "kernelspec": {
   "display_name": "Python 3",
   "language": "python",
   "name": "python3"
  },
  "language_info": {
   "codemirror_mode": {
    "name": "ipython",
    "version": 3
   },
   "file_extension": ".py",
   "mimetype": "text/x-python",
   "name": "python",
   "nbconvert_exporter": "python",
   "pygments_lexer": "ipython3",
   "version": "3.12.1"
  }
 },
 "nbformat": 4,
 "nbformat_minor": 2
}
